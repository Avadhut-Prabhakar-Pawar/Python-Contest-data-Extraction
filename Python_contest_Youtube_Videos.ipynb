{
  "nbformat": 4,
  "nbformat_minor": 0,
  "metadata": {
    "colab": {
      "provenance": [],
      "authorship_tag": "ABX9TyOBkGrkKWKL8znw1YQIw1D5",
      "include_colab_link": true
    },
    "kernelspec": {
      "name": "python3",
      "display_name": "Python 3"
    },
    "language_info": {
      "name": "python"
    }
  },
  "cells": [
    {
      "cell_type": "markdown",
      "metadata": {
        "id": "view-in-github",
        "colab_type": "text"
      },
      "source": [
        "<a href=\"https://colab.research.google.com/github/Avadhut-Prabhakar-Pawar/Python-Contest-data-Extraction/blob/main/Python_contest_Youtube_Videos.ipynb\" target=\"_parent\"><img src=\"https://colab.research.google.com/assets/colab-badge.svg\" alt=\"Open In Colab\"/></a>"
      ]
    },
    {
      "cell_type": "code",
      "source": [
        "!pip install selenium"
      ],
      "metadata": {
        "colab": {
          "base_uri": "https://localhost:8080/"
        },
        "id": "_3VBV1UgD1H8",
        "outputId": "883d5e6f-a370-41b2-d7f9-253fd5c44fed"
      },
      "execution_count": 2,
      "outputs": [
        {
          "output_type": "stream",
          "name": "stdout",
          "text": [
            "Collecting selenium\n",
            "  Downloading selenium-4.12.0-py3-none-any.whl (9.4 MB)\n",
            "\u001b[2K     \u001b[90m━━━━━━━━━━━━━━━━━━━━━━━━━━━━━━━━━━━━━━━━\u001b[0m \u001b[32m9.4/9.4 MB\u001b[0m \u001b[31m21.7 MB/s\u001b[0m eta \u001b[36m0:00:00\u001b[0m\n",
            "\u001b[?25hRequirement already satisfied: urllib3[socks]<3,>=1.26 in /usr/local/lib/python3.10/dist-packages (from selenium) (2.0.4)\n",
            "Collecting trio~=0.17 (from selenium)\n",
            "  Downloading trio-0.22.2-py3-none-any.whl (400 kB)\n",
            "\u001b[2K     \u001b[90m━━━━━━━━━━━━━━━━━━━━━━━━━━━━━━━━━━━━━━\u001b[0m \u001b[32m400.2/400.2 kB\u001b[0m \u001b[31m35.0 MB/s\u001b[0m eta \u001b[36m0:00:00\u001b[0m\n",
            "\u001b[?25hCollecting trio-websocket~=0.9 (from selenium)\n",
            "  Downloading trio_websocket-0.10.4-py3-none-any.whl (17 kB)\n",
            "Requirement already satisfied: certifi>=2021.10.8 in /usr/local/lib/python3.10/dist-packages (from selenium) (2023.7.22)\n",
            "Requirement already satisfied: attrs>=20.1.0 in /usr/local/lib/python3.10/dist-packages (from trio~=0.17->selenium) (23.1.0)\n",
            "Requirement already satisfied: sortedcontainers in /usr/local/lib/python3.10/dist-packages (from trio~=0.17->selenium) (2.4.0)\n",
            "Requirement already satisfied: idna in /usr/local/lib/python3.10/dist-packages (from trio~=0.17->selenium) (3.4)\n",
            "Collecting outcome (from trio~=0.17->selenium)\n",
            "  Downloading outcome-1.2.0-py2.py3-none-any.whl (9.7 kB)\n",
            "Requirement already satisfied: sniffio in /usr/local/lib/python3.10/dist-packages (from trio~=0.17->selenium) (1.3.0)\n",
            "Requirement already satisfied: exceptiongroup>=1.0.0rc9 in /usr/local/lib/python3.10/dist-packages (from trio~=0.17->selenium) (1.1.3)\n",
            "Collecting wsproto>=0.14 (from trio-websocket~=0.9->selenium)\n",
            "  Downloading wsproto-1.2.0-py3-none-any.whl (24 kB)\n",
            "Requirement already satisfied: pysocks!=1.5.7,<2.0,>=1.5.6 in /usr/local/lib/python3.10/dist-packages (from urllib3[socks]<3,>=1.26->selenium) (1.7.1)\n",
            "Collecting h11<1,>=0.9.0 (from wsproto>=0.14->trio-websocket~=0.9->selenium)\n",
            "  Downloading h11-0.14.0-py3-none-any.whl (58 kB)\n",
            "\u001b[2K     \u001b[90m━━━━━━━━━━━━━━━━━━━━━━━━━━━━━━━━━━━━━━━━\u001b[0m \u001b[32m58.3/58.3 kB\u001b[0m \u001b[31m7.1 MB/s\u001b[0m eta \u001b[36m0:00:00\u001b[0m\n",
            "\u001b[?25hInstalling collected packages: outcome, h11, wsproto, trio, trio-websocket, selenium\n",
            "Successfully installed h11-0.14.0 outcome-1.2.0 selenium-4.12.0 trio-0.22.2 trio-websocket-0.10.4 wsproto-1.2.0\n"
          ]
        }
      ]
    },
    {
      "cell_type": "code",
      "source": [
        "from selenium import webdriver\n",
        "from selenium.webdriver.common.by import By\n",
        "from selenium.webdriver.support.ui import WebDriverWait\n",
        "from selenium.webdriver.support import expected_conditions as EC\n",
        "from datetime import datetime\n",
        "\n",
        "start_date = datetime.strptime('May 22, 2023', '%B %d, %Y')\n",
        "end_date = datetime.strptime('August 8, 2023', '%B %d, %Y')\n",
        "\n",
        "# Set up the webdriver\n",
        "options = webdriver.ChromeOptions()\n",
        "options.add_argument('--no-sandbox')\n",
        "options.add_argument('--disable-dev-shm-usage')\n",
        "options.add_argument('--headless')\n",
        "driver = webdriver.Chrome(options=options)\n",
        "wait = WebDriverWait(driver, 10)\n",
        "\n",
        "# Navigate to the T-Series YouTube channel\n",
        "driver.get('https://www.youtube.com/c/tseries/videos')\n",
        "\n",
        "# Scroll down to load all videos\n",
        "last_height = driver.execute_script(\"return document.documentElement.scrollHeight\")\n",
        "while True:\n",
        "    driver.execute_script(\"window.scrollTo(0, document.documentElement.scrollHeight);\")\n",
        "    try:\n",
        "        wait.until(lambda driver: driver.execute_script(\"return document.documentElement.scrollHeight\") > last_height)\n",
        "        last_height = driver.execute_script(\"return document.documentElement.scrollHeight\")\n",
        "    except:\n",
        "        break\n",
        "\n",
        "# Find all video URLs\n",
        "video_urls = []\n",
        "video_elements = driver.find_elements(By.XPATH, '//a[@id=\"video-title\"]')\n",
        "for video_element in video_elements:\n",
        "    video_url = video_element.get_attribute('href')\n",
        "    video_urls.append(video_url)\n",
        "\n",
        "# Filter video URLs by upload date\n",
        "filtered_video_urls = []\n",
        "for video_url in video_urls:\n",
        "    driver.get(video_url)\n",
        "    upload_date_element = wait.until(EC.presence_of_element_located((By.XPATH, '//div[@id=\"date\"]/yt-formatted-string')))\n",
        "    upload_date_str = upload_date_element.text.replace('•', '').strip()\n",
        "    upload_date = datetime.strptime(upload_date_str, '%b %d, %Y')\n",
        "    if start_date <= upload_date <= end_date:\n",
        "        filtered_video_urls.append(video_url)\n",
        "\n",
        "# Find and count the most frequently repeated character in the video URLs\n",
        "char_counts = {}\n",
        "for video_url in filtered_video_urls:\n",
        "    video_id = video_url.split('=')[-1]\n",
        "    for char in video_id:\n",
        "        char = char.lower()\n",
        "        if char not in char_counts:\n",
        "            char_counts[char] = 0\n",
        "        char_counts[char] += 1\n",
        "\n",
        "most_repeated_char = max(char_counts, key=char_counts.get)\n",
        "most_repeated_char_count = char_counts[most_repeated_char]\n",
        "\n",
        "print(f\"{most_repeated_char}{most_repeated_char_count}\")\n",
        "\n",
        "driver.quit()\n"
      ],
      "metadata": {
        "colab": {
          "base_uri": "https://localhost:8080/",
          "height": 245
        },
        "id": "LPkUUaBAExTU",
        "outputId": "1c646aa5-2bb4-4213-c31b-18181b0fee98"
      },
      "execution_count": 9,
      "outputs": [
        {
          "output_type": "error",
          "ename": "ValueError",
          "evalue": "ignored",
          "traceback": [
            "\u001b[0;31m---------------------------------------------------------------------------\u001b[0m",
            "\u001b[0;31mValueError\u001b[0m                                Traceback (most recent call last)",
            "\u001b[0;32m<ipython-input-9-25c0ad117403>\u001b[0m in \u001b[0;36m<cell line: 58>\u001b[0;34m()\u001b[0m\n\u001b[1;32m     56\u001b[0m         \u001b[0mchar_counts\u001b[0m\u001b[0;34m[\u001b[0m\u001b[0mchar\u001b[0m\u001b[0;34m]\u001b[0m \u001b[0;34m+=\u001b[0m \u001b[0;36m1\u001b[0m\u001b[0;34m\u001b[0m\u001b[0;34m\u001b[0m\u001b[0m\n\u001b[1;32m     57\u001b[0m \u001b[0;34m\u001b[0m\u001b[0m\n\u001b[0;32m---> 58\u001b[0;31m \u001b[0mmost_repeated_char\u001b[0m \u001b[0;34m=\u001b[0m \u001b[0mmax\u001b[0m\u001b[0;34m(\u001b[0m\u001b[0mchar_counts\u001b[0m\u001b[0;34m,\u001b[0m \u001b[0mkey\u001b[0m\u001b[0;34m=\u001b[0m\u001b[0mchar_counts\u001b[0m\u001b[0;34m.\u001b[0m\u001b[0mget\u001b[0m\u001b[0;34m)\u001b[0m\u001b[0;34m\u001b[0m\u001b[0;34m\u001b[0m\u001b[0m\n\u001b[0m\u001b[1;32m     59\u001b[0m \u001b[0mmost_repeated_char_count\u001b[0m \u001b[0;34m=\u001b[0m \u001b[0mchar_counts\u001b[0m\u001b[0;34m[\u001b[0m\u001b[0mmost_repeated_char\u001b[0m\u001b[0;34m]\u001b[0m\u001b[0;34m\u001b[0m\u001b[0;34m\u001b[0m\u001b[0m\n\u001b[1;32m     60\u001b[0m \u001b[0;34m\u001b[0m\u001b[0m\n",
            "\u001b[0;31mValueError\u001b[0m: max() arg is an empty sequence"
          ]
        }
      ]
    },
    {
      "cell_type": "code",
      "source": [
        "from selenium import webdriver\n",
        "from selenium.webdriver.common.by import By\n",
        "from selenium.webdriver.support.ui import WebDriverWait\n",
        "from selenium.webdriver.support import expected_conditions as EC\n",
        "from datetime import datetime\n",
        "\n",
        "start_date = datetime.strptime('May 22, 2023', '%B %d, %Y')\n",
        "end_date = datetime.strptime('August 8, 2023', '%B %d, %Y')\n",
        "\n",
        "# Set up the webdriver\n",
        "options = webdriver.ChromeOptions()\n",
        "options.add_argument('--no-sandbox')\n",
        "options.add_argument('--disable-dev-shm-usage')\n",
        "options.add_argument('--headless')\n",
        "driver = webdriver.Chrome(options=options)\n",
        "wait = WebDriverWait(driver, 10)\n",
        "\n",
        "# Navigate to the T-Series YouTube channel\n",
        "driver.get('https://www.youtube.com/c/tseries/videos')\n",
        "\n",
        "# Scroll down to load all videos\n",
        "last_height = driver.execute_script(\"return document.documentElement.scrollHeight\")\n",
        "while True:\n",
        "    driver.execute_script(\"window.scrollTo(0, document.documentElement.scrollHeight);\")\n",
        "    try:\n",
        "        wait.until(lambda driver: driver.execute_script(\"return document.documentElement.scrollHeight\") > last_height)\n",
        "        last_height = driver.execute_script(\"return document.documentElement.scrollHeight\")\n",
        "    except:\n",
        "        break\n",
        "\n",
        "# Find all video URLs\n",
        "video_urls = []\n",
        "video_elements = driver.find_elements(By.XPATH, '//a[@id=\"video-title\"]')\n",
        "for video_element in video_elements:\n",
        "    video_url = video_element.get_attribute('href')\n",
        "    video_urls.append(video_url)\n",
        "\n",
        "# Filter video URLs by upload date\n",
        "filtered_video_urls = []\n",
        "for video_url in video_urls:\n",
        "    driver.get(video_url)\n",
        "    upload_date_element = wait.until(EC.presence_of_element_located((By.XPATH, '//div[@id=\"date\"]/yt-formatted-string')))\n",
        "    upload_date_str = upload_date_element.text.replace('•', '').strip()\n",
        "    upload_date = datetime.strptime(upload_date_str, '%b %d, %Y')\n",
        "    if start_date <= upload_date <= end_date:\n",
        "        filtered_video_urls.append(video_url)\n",
        "\n",
        "# Find and count the most frequently repeated character in the video URLs\n",
        "char_counts = {}\n",
        "for video_url in filtered_video_urls:\n",
        "    video_id = video_url.split('=')[-1]\n",
        "    for char in video_id:\n",
        "        char = char.lower()\n",
        "        if char not in char_counts:\n",
        "            char_counts[char] = 0\n",
        "        char_counts[char] += 1\n",
        "\n",
        "if char_counts:  # Check if dictionary is not empty\n",
        "    most_repeated_char = max(char_counts, key=char_counts.get)\n",
        "    most_repeated_char_count = char_counts[most_repeated_char]\n",
        "    print(f\"{most_repeated_char}{most_repeated_char_count}\")\n",
        "else:\n",
        "    print(\"No videos found within the specified date range.\")\n",
        "\n",
        "driver.quit()\n"
      ],
      "metadata": {
        "colab": {
          "base_uri": "https://localhost:8080/"
        },
        "id": "2PgL-Zk2Iz9d",
        "outputId": "54a3619a-b34c-47e3-8273-55c8cf4e4fc8"
      },
      "execution_count": 10,
      "outputs": [
        {
          "output_type": "stream",
          "name": "stdout",
          "text": [
            "No videos found within the specified date range.\n"
          ]
        }
      ]
    }
  ]
}